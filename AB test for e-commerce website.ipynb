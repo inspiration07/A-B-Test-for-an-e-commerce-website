{
 "cells": [
  {
   "cell_type": "markdown",
   "metadata": {},
   "source": [
    "# A/B Test for an e-commerce website"
   ]
  },
  {
   "cell_type": "markdown",
   "metadata": {},
   "source": [
    "### The outline of this notebook is as follows:\n",
    "\n",
    "1. [Understanding the case](#Understandingthecase)\n",
    "2. [Summary statistics](#Summarystatistics)\n",
    "3. [Stating the hypothesis](#Statingthenullandalternatehypothesis)\n",
    "1. [Choosing the sample size](#Choosingthesamplesize)\n",
    "4. [A/B Test I](##A/BtestI)\n",
    "5. [A/B Test II](#A/BtestII)\n",
    "1. [Interpretation and Conclusion](#interpretationandconclusion)"
   ]
  },
  {
   "cell_type": "markdown",
   "metadata": {},
   "source": [
    "<a id='Understandingthecase'></a>\n",
    "\n",
    "### I. Understanding the case\n",
    "\n",
    "Here's the case for our study - \n",
    "\n",
    "A medium-sized e-commerce business has a current conversion rate i.e., <b>consumers buying a product</b>, of <b>12%</b>, the firm wants to increase the conversion rate to <b>14%</b>. To help increase the conversion rate, the firm asks the design team to redesign their website. \n",
    "\n",
    "As analysts of the e-commerce firm, we need to test the effect of the new website on the conversion rate. The new design of the website will be implemented if the conversion rate rises to <b>14%</b>.\n",
    "\n",
    "Before rolling out the new design, the firm tests the conversion rate of the new design on a small sample of consumers. An A/B test is implemented for the following data - \n",
    "\n",
    "1. id - Unique user ID of the consumer.\n",
    "2. time - Login time of the consumer.\n",
    "3. category - \n",
    "    - control group - Consumers who are shown the old design of the website.\n",
    "    - treatment group - Consumers who are shown the new design of the website.\n",
    "4. page - New page or old page displayed to the consumer.\n",
    "5. converted - \n",
    "    - 1 - User bought a product off the website.\n",
    "    - 0 - User did not buy a product off the website.\n",
    "\n",
    "\n",
    "The main goal of this project was to understand the results of an A/B test run by a e-commerce firm and provide statistical and helpful interpretations on the results.\n"
   ]
  },
  {
   "cell_type": "markdown",
   "metadata": {},
   "source": [
    "### Importing necessary libraries"
   ]
  },
  {
   "cell_type": "code",
   "execution_count": 25,
   "metadata": {},
   "outputs": [],
   "source": [
    "import pandas as pd\n",
    "import numpy as np\n",
    "\n",
    "import matplotlib\n",
    "import matplotlib.pyplot as plt\n",
    "import seaborn as sns\n",
    "sns.set()\n",
    "\n",
    "from IPython.display import display\n",
    "%matplotlib inline\n",
    "matplotlib.rcParams['figure.figsize'] = (16, 6)"
   ]
  },
  {
   "cell_type": "markdown",
   "metadata": {},
   "source": [
    "<a id='Summarystatistics'></a>\n",
    "\n",
    "### II. Summary statistics"
   ]
  },
  {
   "cell_type": "markdown",
   "metadata": {},
   "source": [
    "i) Importing the csv file as a pandas dataset."
   ]
  },
  {
   "cell_type": "code",
   "execution_count": 26,
   "metadata": {},
   "outputs": [],
   "source": [
    "df = pd.read_csv('ab_test.csv')"
   ]
  },
  {
   "cell_type": "code",
   "execution_count": 27,
   "metadata": {},
   "outputs": [],
   "source": [
    "df.rename(columns= {'con_treat': 'category'}, inplace= True)"
   ]
  },
  {
   "cell_type": "markdown",
   "metadata": {},
   "source": [
    "ii) Displaying the top 5 rows and the number of rows and columns of the dataset."
   ]
  },
  {
   "cell_type": "code",
   "execution_count": 28,
   "metadata": {},
   "outputs": [
    {
     "data": {
      "text/html": [
       "<div>\n",
       "<style scoped>\n",
       "    .dataframe tbody tr th:only-of-type {\n",
       "        vertical-align: middle;\n",
       "    }\n",
       "\n",
       "    .dataframe tbody tr th {\n",
       "        vertical-align: top;\n",
       "    }\n",
       "\n",
       "    .dataframe thead th {\n",
       "        text-align: right;\n",
       "    }\n",
       "</style>\n",
       "<table border=\"1\" class=\"dataframe\">\n",
       "  <thead>\n",
       "    <tr style=\"text-align: right;\">\n",
       "      <th></th>\n",
       "      <th>id</th>\n",
       "      <th>time</th>\n",
       "      <th>category</th>\n",
       "      <th>page</th>\n",
       "      <th>converted</th>\n",
       "    </tr>\n",
       "  </thead>\n",
       "  <tbody>\n",
       "    <tr>\n",
       "      <th>0</th>\n",
       "      <td>851104</td>\n",
       "      <td>11:48.6</td>\n",
       "      <td>control</td>\n",
       "      <td>old_page</td>\n",
       "      <td>0</td>\n",
       "    </tr>\n",
       "    <tr>\n",
       "      <th>1</th>\n",
       "      <td>804228</td>\n",
       "      <td>01:45.2</td>\n",
       "      <td>control</td>\n",
       "      <td>old_page</td>\n",
       "      <td>0</td>\n",
       "    </tr>\n",
       "    <tr>\n",
       "      <th>2</th>\n",
       "      <td>661590</td>\n",
       "      <td>55:06.2</td>\n",
       "      <td>treatment</td>\n",
       "      <td>new_page</td>\n",
       "      <td>0</td>\n",
       "    </tr>\n",
       "    <tr>\n",
       "      <th>3</th>\n",
       "      <td>853541</td>\n",
       "      <td>28:03.1</td>\n",
       "      <td>treatment</td>\n",
       "      <td>new_page</td>\n",
       "      <td>0</td>\n",
       "    </tr>\n",
       "    <tr>\n",
       "      <th>4</th>\n",
       "      <td>864975</td>\n",
       "      <td>52:26.2</td>\n",
       "      <td>control</td>\n",
       "      <td>old_page</td>\n",
       "      <td>1</td>\n",
       "    </tr>\n",
       "  </tbody>\n",
       "</table>\n",
       "</div>"
      ],
      "text/plain": [
       "       id     time   category      page  converted\n",
       "0  851104  11:48.6    control  old_page          0\n",
       "1  804228  01:45.2    control  old_page          0\n",
       "2  661590  55:06.2  treatment  new_page          0\n",
       "3  853541  28:03.1  treatment  new_page          0\n",
       "4  864975  52:26.2    control  old_page          1"
      ]
     },
     "metadata": {},
     "output_type": "display_data"
    },
    {
     "data": {
      "text/plain": [
       "(294478, 5)"
      ]
     },
     "execution_count": 28,
     "metadata": {},
     "output_type": "execute_result"
    }
   ],
   "source": [
    "display(df.head())\n",
    "df.shape"
   ]
  },
  {
   "cell_type": "markdown",
   "metadata": {},
   "source": [
    "The data contains 294478 rows and 5 columns"
   ]
  },
  {
   "cell_type": "markdown",
   "metadata": {},
   "source": [
    "iii) Checking the number of null values of the dataset"
   ]
  },
  {
   "cell_type": "code",
   "execution_count": 29,
   "metadata": {},
   "outputs": [
    {
     "data": {
      "text/plain": [
       "id           0\n",
       "time         0\n",
       "category     0\n",
       "page         0\n",
       "converted    0\n",
       "dtype: int64"
      ]
     },
     "execution_count": 29,
     "metadata": {},
     "output_type": "execute_result"
    }
   ],
   "source": [
    "df.isna().sum()"
   ]
  },
  {
   "cell_type": "markdown",
   "metadata": {},
   "source": [
    "There are no null values in the dataset"
   ]
  },
  {
   "cell_type": "markdown",
   "metadata": {},
   "source": [
    "iv) Checking if the dataset has any non-unique values."
   ]
  },
  {
   "cell_type": "code",
   "execution_count": 30,
   "metadata": {},
   "outputs": [
    {
     "data": {
      "text/plain": [
       "False"
      ]
     },
     "execution_count": 30,
     "metadata": {},
     "output_type": "execute_result"
    }
   ],
   "source": [
    "df['id'].nunique() == df['id'].shape"
   ]
  },
  {
   "cell_type": "markdown",
   "metadata": {},
   "source": [
    "There are non-unique values in the dataset."
   ]
  },
  {
   "cell_type": "code",
   "execution_count": 31,
   "metadata": {},
   "outputs": [
    {
     "data": {
      "text/plain": [
       "3894"
      ]
     },
     "execution_count": 31,
     "metadata": {},
     "output_type": "execute_result"
    }
   ],
   "source": [
    "non_unique_users = df['id'].value_counts()\n",
    "non_unique_users[non_unique_users > 1].count()\n"
   ]
  },
  {
   "cell_type": "markdown",
   "metadata": {},
   "source": [
    "There are 3894 non-unique values in the dataset. Since the non-unique values are low, we remove those values from the dataset."
   ]
  },
  {
   "cell_type": "markdown",
   "metadata": {},
   "source": [
    "v) Removing the non-unique values of the dataset."
   ]
  },
  {
   "cell_type": "code",
   "execution_count": 32,
   "metadata": {},
   "outputs": [
    {
     "data": {
      "text/plain": [
       "286690"
      ]
     },
     "execution_count": 32,
     "metadata": {},
     "output_type": "execute_result"
    }
   ],
   "source": [
    "many_users = non_unique_users[non_unique_users > 1].index\n",
    "df = df[~df['id'].isin(many_users)]\n",
    "df.shape[0]"
   ]
  },
  {
   "cell_type": "markdown",
   "metadata": {},
   "source": [
    "After removing the non-unique values, we get a total of 286690 unique rows in the dataset."
   ]
  },
  {
   "cell_type": "markdown",
   "metadata": {},
   "source": [
    "vi) Checking if the 'treatment' rows are aligned with the 'new page' rows. We do this to improve the accuracy of our test."
   ]
  },
  {
   "cell_type": "code",
   "execution_count": 33,
   "metadata": {},
   "outputs": [
    {
     "data": {
      "text/plain": [
       "0"
      ]
     },
     "execution_count": 33,
     "metadata": {},
     "output_type": "execute_result"
    }
   ],
   "source": [
    "df[((df['category'] == 'treatment') == (df['page'] == 'new_page')) == False].shape[0]"
   ]
  },
  {
   "cell_type": "markdown",
   "metadata": {},
   "source": [
    "All 'treatment' rows are aligned with the 'new page' rows."
   ]
  },
  {
   "cell_type": "markdown",
   "metadata": {},
   "source": [
    "<a id='Statingthenullandalternatehypothesis'></a>\n",
    "\n",
    "### III. Stating the hypothesis\n",
    "\n",
    "#### H<sub>0</sub>: A certain e-commerce website visitors that receive the new website design will not have a higher conversion rate compared to visitors that receive the old website design.\n",
    "#### <center>H<sub>0</sub>: P<sub>0</sub> = P<sub>1</sub></center>\n",
    "\n",
    "### H<sub>1</sub>: A certain e-commerce website visitors that receive the new website layout will have a higher conversion rate compared to visitors that receive the old website design.\n",
    "#### <center>H<sub>1</sub>: P<sub>0</sub> ≠ P<sub>1</sub></center>\n",
    "\n",
    "P<sub>0</sub> represents the conversion rate of old design.\n",
    "\n",
    "P<sub>1</sub> represents the conversion rate of new design.\n",
    "\n",
    "\n",
    "We choose a two-tailed test for our experiment and set the confidence interval at 95% i.e.., \n",
    "\n",
    "<center>α= 0.05</center>\n",
    "\n",
    "If the probability of observing a result as extreme or more i.e., <b>p-value</b> is lower than α then we reject the null hypothesis.\n",
    "\n",
    "This means that we have to be 95% confident that whatever conversion rate we observe of the new design is statistically different from the conversion rate of the old design.\n"
   ]
  },
  {
   "cell_type": "markdown",
   "metadata": {},
   "source": [
    "<a id='Choosingthesamplesize'></a>\n",
    "\n",
    "### IV. Choosing the sample size"
   ]
  },
  {
   "cell_type": "markdown",
   "metadata": {},
   "source": [
    "i) Calculating the conversion rate for control and treatment groups together."
   ]
  },
  {
   "cell_type": "code",
   "execution_count": 34,
   "metadata": {},
   "outputs": [
    {
     "data": {
      "text/plain": [
       "0.11944957968537445"
      ]
     },
     "execution_count": 34,
     "metadata": {},
     "output_type": "execute_result"
    }
   ],
   "source": [
    "prob = df['converted'].mean()\n",
    "prob"
   ]
  },
  {
   "cell_type": "markdown",
   "metadata": {},
   "source": [
    "The conversion rate for both the groups combined is 11.94%."
   ]
  },
  {
   "cell_type": "markdown",
   "metadata": {},
   "source": [
    "ii) Calculating the conversion rate for the control group."
   ]
  },
  {
   "cell_type": "code",
   "execution_count": 35,
   "metadata": {},
   "outputs": [
    {
     "data": {
      "text/plain": [
       "0.12017335110577627"
      ]
     },
     "execution_count": 35,
     "metadata": {},
     "output_type": "execute_result"
    }
   ],
   "source": [
    "prob_control = df[df['category']=='control']['converted'].mean()\n",
    "prob_control"
   ]
  },
  {
   "cell_type": "markdown",
   "metadata": {},
   "source": [
    "The conversion rate for control group is 12.01%"
   ]
  },
  {
   "cell_type": "markdown",
   "metadata": {},
   "source": [
    "iii) Calculating the conversion rate for the treatment group."
   ]
  },
  {
   "cell_type": "code",
   "execution_count": 36,
   "metadata": {},
   "outputs": [
    {
     "data": {
      "text/plain": [
       "0.11872633318688676"
      ]
     },
     "execution_count": 36,
     "metadata": {},
     "output_type": "execute_result"
    }
   ],
   "source": [
    "prob_treatment = df[df['category']=='treatment']['converted'].mean()\n",
    "prob_treatment"
   ]
  },
  {
   "cell_type": "markdown",
   "metadata": {},
   "source": [
    "The conversion rate for the treatment group is 11.87%. \n",
    "\n",
    "The conversion rate of the control group is higher than the conversion rate of the treatment group; but there is no sufficient evidence that the old page is better than the new page, we use A/B test to test this hypothesis."
   ]
  },
  {
   "cell_type": "markdown",
   "metadata": {},
   "source": [
    "Since we cannot test our hypothesis on the whole population that visit our website, we need to use a sample number of visitors to test our hypothesis. The more number of samples, the more precise is our result. \n",
    "\n",
    "On the contrary, the higher the number of samples, the more expensive our test becomes.\n",
    "\n",
    "To find the right number of samples we use power analysis. Power is the probability that we will correctly reject the null hypothesis. \n",
    "\n",
    "To calculate power we need power of the test (commonly power is 80% or 0.8), alpha (α= 0.05) and effect size(d). We use statsmodel's api to calculate power for us."
   ]
  },
  {
   "cell_type": "code",
   "execution_count": 37,
   "metadata": {},
   "outputs": [
    {
     "name": "stdout",
     "output_type": "stream",
     "text": [
      "4432\n"
     ]
    }
   ],
   "source": [
    "import statsmodels.stats.api as sms\n",
    "\n",
    "effect_size = sms.proportion_effectsize(0.12, 0.14)    \n",
    "\n",
    "required_sample_size = sms.NormalIndPower().solve_power(effect_size, power= 0.8, alpha= 0.05, ratio= 1)                                   \n",
    "\n",
    "required_sample_size = round(required_sample_size)                                           \n",
    "\n",
    "print(required_sample_size)"
   ]
  },
  {
   "cell_type": "markdown",
   "metadata": {},
   "source": [
    "The required number of samples for each control group and treatment group is 4432. "
   ]
  },
  {
   "cell_type": "markdown",
   "metadata": {},
   "source": [
    "<a id='#A/BtestI'></a>\n",
    "### V. A/B Test I "
   ]
  },
  {
   "cell_type": "markdown",
   "metadata": {},
   "source": [
    "#### i) Sampling\n",
    "\n",
    "To sample the data we use permutation. Permutation is used for random reordering of the entries in an array. We permute 4432 samples using numpy's np.random.permutation.\n",
    "\n"
   ]
  },
  {
   "cell_type": "code",
   "execution_count": 38,
   "metadata": {},
   "outputs": [],
   "source": [
    "df_control_permute = df[df['category']=='control']['converted'].iloc[0:4432].values\n",
    "df_treatment_permute = df[df['category']=='treatment']['converted'].iloc[0:4432].values\n",
    "\n",
    "df_permute_both = np.concatenate((df_control_permute, df_treatment_permute))\n",
    "\n",
    "np_test = np.random.permutation(df_permute_both)\n",
    "\n",
    "df_control_test = np_test[:len(df_control_permute)]\n",
    "df_treatment_test = np_test[len(df_treatment_permute):]"
   ]
  },
  {
   "cell_type": "markdown",
   "metadata": {},
   "source": [
    "Permuted control values are stored in df_control_test.\n",
    "\n",
    "Permuted treatment values are stored in df_treatment_test."
   ]
  },
  {
   "cell_type": "code",
   "execution_count": 39,
   "metadata": {},
   "outputs": [
    {
     "data": {
      "text/plain": [
       "array([0, 0, 0, ..., 1, 0, 1], dtype=int64)"
      ]
     },
     "execution_count": 39,
     "metadata": {},
     "output_type": "execute_result"
    }
   ],
   "source": [
    "np_test"
   ]
  },
  {
   "cell_type": "markdown",
   "metadata": {},
   "source": [
    "ii) Interpreting results of permuted data."
   ]
  },
  {
   "cell_type": "markdown",
   "metadata": {},
   "source": [
    "The permuted values of both the control and treatment groups are stored as a numpy array in the variable np_test."
   ]
  },
  {
   "cell_type": "code",
   "execution_count": 40,
   "metadata": {},
   "outputs": [
    {
     "name": "stdout",
     "output_type": "stream",
     "text": [
      "The count of the permuted control values are 4432\n"
     ]
    }
   ],
   "source": [
    "len_df_control_test = len(df_control_test)\n",
    "print('The count of the permuted control values are {}'.format(len_df_control_test))"
   ]
  },
  {
   "cell_type": "code",
   "execution_count": 41,
   "metadata": {},
   "outputs": [
    {
     "name": "stdout",
     "output_type": "stream",
     "text": [
      "The count of the permuted treatment values are 4432\n"
     ]
    }
   ],
   "source": [
    "len_df_treatment_test = len(df_treatment_test)\n",
    "print('The count of the permuted treatment values are {}'.format(len_df_treatment_test))"
   ]
  },
  {
   "cell_type": "code",
   "execution_count": 42,
   "metadata": {},
   "outputs": [
    {
     "name": "stdout",
     "output_type": "stream",
     "text": [
      "The conversion rate of the permuted control data is 0.12545126353790614\n",
      "The conversion rate of the permuted treatment data is 0.12184115523465704\n"
     ]
    }
   ],
   "source": [
    "print('The conversion rate of the permuted control data is {}'.format(df_control_test.mean()))\n",
    "print('The conversion rate of the permuted treatment data is {}'.format(df_treatment_test.mean()))"
   ]
  },
  {
   "cell_type": "markdown",
   "metadata": {},
   "source": [
    "As we can see the conversion rate for the treatment group is slightly higher than the control group. We need to test whether it is statistically significant or not."
   ]
  },
  {
   "cell_type": "code",
   "execution_count": 43,
   "metadata": {},
   "outputs": [
    {
     "name": "stdout",
     "output_type": "stream",
     "text": [
      "The standard deviation of the permuted control data is 0.33122989601581704\n",
      "The standard deviation of the permuted treatment data is 0.32710225943233906\n"
     ]
    }
   ],
   "source": [
    "print('The standard deviation of the permuted control data is {}'.format(df_control_test.std()))\n",
    "print('The standard deviation of the permuted treatment data is {}'.format(df_treatment_test.std()))"
   ]
  },
  {
   "cell_type": "markdown",
   "metadata": {},
   "source": [
    "iii) Visualising the conversion rate between the control and treatment permuted data."
   ]
  },
  {
   "cell_type": "code",
   "execution_count": 44,
   "metadata": {},
   "outputs": [
    {
     "data": {
      "image/png": "[encoded data removed]",
      "text/plain": [
       "<Figure size 1152x432 with 1 Axes>"
      ]
     },
     "metadata": {
      "needs_background": "light"
     },
     "output_type": "display_data"
    }
   ],
   "source": [
    "fig, ax = plt.subplots()\n",
    "\n",
    "plt.bar(x= 'Conversion rate of permuted control data', height= df_control_permute.mean())\n",
    "plt.bar(x= 'Conversion rate of permuted treatment data', height= df_treatment_permute.mean())\n",
    "for container in ax.containers:\n",
    "    ax.bar_label(container, fontsize= 14)\n",
    "plt.show()"
   ]
  },
  {
   "cell_type": "markdown",
   "metadata": {},
   "source": [
    "As we can see from the bar plot, the conversion rate of the permuted treatment data is slightly higher than that of the permuted control data."
   ]
  },
  {
   "cell_type": "markdown",
   "metadata": {},
   "source": [
    "iv) Z-Test\n",
    "\n",
    "We finally test and analyse our hypothesis. Since the number of samples is large, we use Z-test to calulate the z-statistic and p-value.\n",
    "\n",
    "To conduct the Z-test we use statsmodels.stats.proportion."
   ]
  },
  {
   "cell_type": "code",
   "execution_count": 45,
   "metadata": {},
   "outputs": [
    {
     "name": "stdout",
     "output_type": "stream",
     "text": [
      "The p-value from Z-test is: 0.439\n",
      "The Z-statistic from Z-test is: -0.774\n"
     ]
    }
   ],
   "source": [
    "n_control = len(df_control_permute)\n",
    "n_treatment = len(df_treatment_permute)\n",
    "\n",
    "count = [n_control, n_treatment]\n",
    "\n",
    "result = [df_control_permute.sum(), df_treatment_permute.sum()]\n",
    "\n",
    "from statsmodels.stats.proportion import proportions_ztest, proportion_confint\n",
    "\n",
    "z_statistic, p_value = proportions_ztest(result, nobs= count)\n",
    "(lower_control, lower_treatment), (upper_control, upper_treatment) = proportion_confint(result, nobs= count, alpha=0.05)\n",
    "\n",
    "print(f'The p-value from Z-test is: {p_value:.3f}')\n",
    "print(f'The Z-statistic from Z-test is: {z_statistic:.3f}')"
   ]
  },
  {
   "cell_type": "markdown",
   "metadata": {},
   "source": [
    "The p-value we get from the Z-test is 0.439 whereas the Z-statistic is -0.774. We will infer these values in the final section."
   ]
  },
  {
   "cell_type": "markdown",
   "metadata": {},
   "source": [
    "<a id='A/BtestII'></a>\n",
    "\n",
    "### VI. A/B Test II\n",
    "\n",
    "i) To further strengthen our findings from the Z-test, we simulate differences in the conversion rates between sampled control and sampled treatment groups under the null hypothesis.\n",
    "\n",
    "To simulate these differences we first sample the data using np.random.choice and find out the difference between the conversion rates of the resampled data. We simulate the data 10000 times to find statistical significance between the control and treatment groups."
   ]
  },
  {
   "cell_type": "code",
   "execution_count": 46,
   "metadata": {},
   "outputs": [],
   "source": [
    "len_treatment_permute = len(df_treatment_permute)\n",
    "len_control_permute = len(df_control_permute)\n",
    "\n",
    "diff_means_choice = []\n",
    "\n",
    "for i in range(10000):\n",
    "    treatment_choice = np.random.choice([0, 1], size= len_treatment_permute, p= [(1- prob), prob])\n",
    "    control_choice = np.random.choice([0, 1], size= len_control_permute, p= [(1- prob), prob])\n",
    "    diff_means_choice.append(treatment_choice.mean() - control_choice.mean())"
   ]
  },
  {
   "cell_type": "markdown",
   "metadata": {},
   "source": [
    "We store the difference of the conversion rate of the resampled control and treatment groups in diff_means_choice list. "
   ]
  },
  {
   "cell_type": "markdown",
   "metadata": {},
   "source": [
    "ii) Plotting the distribution\n",
    "\n",
    "Plotting our simulated conversion differences of the conversion rate gives an idea of the distribution of data. "
   ]
  },
  {
   "cell_type": "code",
   "execution_count": 47,
   "metadata": {},
   "outputs": [
    {
     "data": {
      "text/plain": [
       "<matplotlib.lines.Line2D at 0x2030a064e48>"
      ]
     },
     "execution_count": 47,
     "metadata": {},
     "output_type": "execute_result"
    },
    {
     "data": {
      "image/png": "[encoded data removed]",
      "text/plain": [
       "<Figure size 1152x432 with 1 Axes>"
      ]
     },
     "metadata": {
      "needs_background": "light"
     },
     "output_type": "display_data"
    }
   ],
   "source": [
    "diff_means_old = prob_control - prob_treatment\n",
    "plt.hist(diff_means_choice, bins= 10)\n",
    "plt.title('Differences in conversion rates for control and treatment groups for resampled data', fontsize= 18)\n",
    "plt.xlabel('Distribution', fontsize= 14)\n",
    "plt.axvline(diff_means_old, color= 'black')"
   ]
  },
  {
   "cell_type": "markdown",
   "metadata": {},
   "source": [
    "From the plot, we see that the original conversion rate of the control and treatment group is within the range of the simulated conversion rate.\n",
    "\n",
    "Looking at the distribution is not a precise way to measure statistical significance, hence we calculate p-value."
   ]
  },
  {
   "cell_type": "markdown",
   "metadata": {},
   "source": [
    "iv) p-value\n",
    "\n",
    "The p-value gives the probability of not observing any difference between conversion rates of control and treatment groups if the null hypothesis is true.\n"
   ]
  },
  {
   "cell_type": "code",
   "execution_count": 48,
   "metadata": {},
   "outputs": [
    {
     "data": {
      "text/plain": [
       "0.4136"
      ]
     },
     "execution_count": 48,
     "metadata": {},
     "output_type": "execute_result"
    }
   ],
   "source": [
    "diff_means_permute = np.asarray(diff_means_choice)\n",
    "(diff_means_permute >= diff_means_old).mean()"
   ]
  },
  {
   "cell_type": "markdown",
   "metadata": {},
   "source": [
    "<a id='interpretationandconclusion'> </a>\n",
    "\n",
    "### VII. Interpretation and conclusion"
   ]
  },
  {
   "cell_type": "markdown",
   "metadata": {},
   "source": [
    "i) A/B Test I interpretation- \n",
    "\n",
    "The Z-statistic represents the number of standard deviations from the mean the original conversion rate i.e., diff_means_old, is. \n",
    "\n",
    "The p-value from our Z-test is 0.439 which is way higher than the α= 0.05 threshold we had anticipated. Since <b>p-value>α we fail to reject the null hypothesis.</b>"
   ]
  },
  {
   "cell_type": "markdown",
   "metadata": {},
   "source": [
    "ii) A/B Test II interpretation-\n",
    "\n",
    "The p-value derived from A/B Test II confirms our findings of A/B Test I. The p-value of 0.4136 is greater than the alpha of 0.05. Hence we fail to reject our null hypothesis."
   ]
  },
  {
   "cell_type": "markdown",
   "metadata": {},
   "source": [
    "iii) Conclusion-\n",
    "\n",
    "Since we fail to reject the null hypothesis, our new webpage did not perform significantly better than the old webpage. \n",
    "\n",
    "Although there could be other variables that influence the decision of the consumers, the analysis so-far has resulted in dropping the new webpage as it does not increase the conversion rate by 2%. \n",
    "\n",
    "The conclusion of the whole study is that the firm needs to re-evaluate its decision to roll out the new webpage and further experiment with their designs."
   ]
  }
 ],
 "metadata": {
  "interpreter": {
   "hash": "f7db69a1043f80ee7d001723ab855d867ed180a7a94ac94e2debf7f2b50a2c54"
  },
  "kernelspec": {
   "display_name": "Python 3.7.11 64-bit ('ProjectsEnv': conda)",
   "language": "python",
   "name": "python3"
  },
  "language_info": {
   "codemirror_mode": {
    "name": "ipython",
    "version": 3
   },
   "file_extension": ".py",
   "mimetype": "text/x-python",
   "name": "python",
   "nbconvert_exporter": "python",
   "pygments_lexer": "ipython3",
   "version": "3.7.11"
  },
  "orig_nbformat": 4
 },
 "nbformat": 4,
 "nbformat_minor": 2
}
